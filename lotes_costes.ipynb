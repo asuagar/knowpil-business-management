{
 "cells": [
  {
   "cell_type": "markdown",
   "metadata": {},
   "source": [
    "## TODO:\n",
    "- enunciado problema\n",
    "- explicación conceptos (vídeos, fórmulas, texto corto)\n",
    "- formatear los resultados: unidades y separar números fácil lectura"
   ]
  },
  {
   "cell_type": "code",
   "execution_count": 1,
   "metadata": {},
   "outputs": [],
   "source": [
    "import math"
   ]
  },
  {
   "cell_type": "markdown",
   "metadata": {},
   "source": [
    "## ENUNCIADO\n",
    "\n",
    "bla bla bla"
   ]
  },
  {
   "cell_type": "code",
   "execution_count": 2,
   "metadata": {},
   "outputs": [],
   "source": [
    "demanda_diaria = 10     \n",
    "tiempo_consumo = 300 \n",
    "coste_unitario = 450\n",
    "coste_almacenamiento_unidad = 0.05*coste_unitario\n",
    "coste_emision = 60\n",
    "tiempo_entrega = 5\n",
    "stock_seguridad = 6"
   ]
  },
  {
   "cell_type": "markdown",
   "metadata": {},
   "source": [
    "## PREGUNTAS\n",
    "\n",
    "bla bla bla"
   ]
  },
  {
   "cell_type": "markdown",
   "metadata": {},
   "source": [
    "### a) Tamaño Lote Óptimo\n",
    "\n",
    "El tamaño de lote óptimo (EOQ o Q*) se obtiene del punto de corte de la recta de coste de almacenamiento con la curva de coste de pedido (o curva de coste de emisión). En ese punto se alcanza el mínimo en la curva de coste total.\n",
    "\n",
    "<img src='./img/tamanho_lote_optimo.png' width='600'>"
   ]
  },
  {
   "cell_type": "code",
   "execution_count": 3,
   "metadata": {},
   "outputs": [
    {
     "name": "stdout",
     "output_type": "stream",
     "text": [
      "126.49110640673517\n"
     ]
    }
   ],
   "source": [
    "demanda_anual = demanda_diaria*tiempo_consumo\n",
    "eoq = math.sqrt(2*demanda_anual*coste_emision/coste_almacenamiento_unidad)\n",
    "print(eoq)"
   ]
  },
  {
   "cell_type": "markdown",
   "metadata": {},
   "source": [
    "### b) Stock de Seguridad\n",
    "\n",
    "El Stock de Seguridad es una cantidad que se desea tener siempre en almacén para contingencias (evitar posibles roturas de Stock o lo que es lo mismo, no tener Stock en caso de que el proveedor o proveedores no suministren en fecha). El Stock de Seguridad, aunque es una cantidad, nos la pueden indicar en días de consumo, que pasaremos a unidades sabiendo el consumo diario.\n",
    "\n",
    "<img src='./img/stock_seguridad.png' width='600'>"
   ]
  },
  {
   "cell_type": "code",
   "execution_count": 4,
   "metadata": {},
   "outputs": [
    {
     "name": "stdout",
     "output_type": "stream",
     "text": [
      "60\n"
     ]
    }
   ],
   "source": [
    "stock_seguridad = demanda_diaria*stock_seguridad\n",
    "print(stock_seguridad)"
   ]
  },
  {
   "cell_type": "markdown",
   "metadata": {},
   "source": [
    "### c) Inventario Medio\n",
    "\n",
    "Es la cantidad media de productos que tenemos en almacén. O lo que es lo mismo el valor medio de EOQ.\n",
    "\n",
    "<img src='./img/inventario_medio.png' width='600'>"
   ]
  },
  {
   "cell_type": "code",
   "execution_count": 5,
   "metadata": {},
   "outputs": [
    {
     "name": "stdout",
     "output_type": "stream",
     "text": [
      "123.24555320336759\n"
     ]
    }
   ],
   "source": [
    "inventario_medio = eoq/2 + stock_seguridad\n",
    "print(inventario_medio)"
   ]
  },
  {
   "cell_type": "markdown",
   "metadata": {},
   "source": [
    "### d) Punto de Pedido según Stock\n",
    "\n",
    "El punto de pedido es el momento en el que realizo el pedido. Es decir, el nivel de inventario en el que emito la orden de pedido. En caso de tener Stock de Seguridad, deberá ser tenido en cuenta. El Punto de Pedido (Pp) será la cantidad que resulte de sumar las unidades que consumo durante el tiempo en el que el proveedor tarda en entregarme el pedido (m) y el Stock de Seguridad (en el caso de que existe Stock de Seguridad). Ejemplo: si el proveedor tarda 5 días en suministrarme un pedido y consumo 10 unidades al día, la cantidad m será 50 (que resulta de multiplicar 5x10). El punto de pedido será 50 más el Stock de Seguridad.\n",
    "\n",
    "\n",
    "<img src='./img/punto_pedido_01.png' width='600'>\n",
    "\n",
    "<img src='./img/punto_pedido_02.png' width='600'>"
   ]
  },
  {
   "cell_type": "code",
   "execution_count": 6,
   "metadata": {},
   "outputs": [
    {
     "name": "stdout",
     "output_type": "stream",
     "text": [
      "110\n"
     ]
    }
   ],
   "source": [
    "demanda_tiempo_suministro = demanda_diaria*tiempo_entrega\n",
    "punto_pedido = stock_seguridad + demanda_tiempo_suministro\n",
    "print(punto_pedido)"
   ]
  },
  {
   "cell_type": "markdown",
   "metadata": {},
   "source": [
    "### e) Número Pedidos por Año"
   ]
  },
  {
   "cell_type": "code",
   "execution_count": 7,
   "metadata": {},
   "outputs": [
    {
     "name": "stdout",
     "output_type": "stream",
     "text": [
      "23.717082451262847\n"
     ]
    }
   ],
   "source": [
    "numero_pedidos = demanda_anual/eoq\n",
    "print(numero_pedidos)"
   ]
  },
  {
   "cell_type": "markdown",
   "metadata": {},
   "source": [
    "### f) Tiempo entre Pedidos\n",
    "\n",
    "El tiempo entre pedidos es el tiempo que tardo en consumir el EOQ o Q*. \n",
    "\n",
    "<img src='./img/tiempo_pedidos.png' width='600'>"
   ]
  },
  {
   "cell_type": "code",
   "execution_count": 8,
   "metadata": {},
   "outputs": [
    {
     "name": "stdout",
     "output_type": "stream",
     "text": [
      "12.649110640673516\n"
     ]
    }
   ],
   "source": [
    "tiempo_pedidos = eoq/demanda_diaria\n",
    "print(tiempo_pedidos)"
   ]
  },
  {
   "cell_type": "markdown",
   "metadata": {},
   "source": [
    "### g) Coste Total\n",
    "\n",
    "El coste total es la suma del coste de compra de productos (o lo que es lo mismo, lo que me gasto en comprar toda la demanda anual) más el coste de almacenaje y el coste de emisión de pedidos.\n",
    "\n",
    "<img src='./img/coste_total.png' width='600'>"
   ]
  },
  {
   "cell_type": "code",
   "execution_count": 9,
   "metadata": {},
   "outputs": [
    {
     "name": "stdout",
     "output_type": "stream",
     "text": [
      "4123.024947075771\n"
     ]
    }
   ],
   "source": [
    "coste_almacenamiento = (inventario_medio+stock_seguridad)*coste_almacenamiento_unidad\n",
    "print(coste_almacenamiento)"
   ]
  },
  {
   "cell_type": "code",
   "execution_count": 10,
   "metadata": {},
   "outputs": [
    {
     "name": "stdout",
     "output_type": "stream",
     "text": [
      "1423.0249470757708\n"
     ]
    }
   ],
   "source": [
    "coste_emision_anual = numero_pedidos*coste_emision\n",
    "print(coste_emision_anual)"
   ]
  },
  {
   "cell_type": "code",
   "execution_count": 11,
   "metadata": {},
   "outputs": [
    {
     "name": "stdout",
     "output_type": "stream",
     "text": [
      "1350000\n"
     ]
    }
   ],
   "source": [
    "coste_demanda = demanda_anual*coste_unitario\n",
    "print(coste_demanda)"
   ]
  },
  {
   "cell_type": "code",
   "execution_count": 12,
   "metadata": {},
   "outputs": [
    {
     "name": "stdout",
     "output_type": "stream",
     "text": [
      "1355546.0498941515\n"
     ]
    }
   ],
   "source": [
    "coste_total = coste_almacenamiento + coste_emision_anual + coste_demanda\n",
    "print(coste_total)"
   ]
  },
  {
   "cell_type": "code",
   "execution_count": 14,
   "metadata": {},
   "outputs": [
    {
     "name": "stdout",
     "output_type": "stream",
     "text": [
      "2020-03-26T19:08:24+01:00\n",
      "\n",
      "CPython 3.7.5\n",
      "IPython 7.12.0\n",
      "\n",
      "compiler   : Clang 11.0.0 (clang-1100.0.33.8)\n",
      "system     : Darwin\n",
      "release    : 19.3.0\n",
      "machine    : x86_64\n",
      "processor  : i386\n",
      "CPU cores  : 4\n",
      "interpreter: 64bit\n"
     ]
    }
   ],
   "source": [
    "%watermark"
   ]
  },
  {
   "cell_type": "markdown",
   "metadata": {},
   "source": [
    "Salvo que se indique lo contrario, el contenido de esta página se encuentra bajo la licencia [Creative Commons Attribution 4.0 International (CC BY 4.0)](https://creativecommons.org/licenses/by/4.0/), y las muestras de código se encuentran bajo la licencia [MIT](https://opensource.org/licenses/MIT)."
   ]
  }
 ],
 "metadata": {
  "kernelspec": {
   "display_name": "Python 3",
   "language": "python",
   "name": "python3"
  },
  "language_info": {
   "codemirror_mode": {
    "name": "ipython",
    "version": 3
   },
   "file_extension": ".py",
   "mimetype": "text/x-python",
   "name": "python",
   "nbconvert_exporter": "python",
   "pygments_lexer": "ipython3",
   "version": "3.7.5"
  }
 },
 "nbformat": 4,
 "nbformat_minor": 4
}
