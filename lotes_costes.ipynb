{
 "cells": [
  {
   "cell_type": "markdown",
   "metadata": {},
   "source": [
    "Salvo que se indique lo contrario, el contenido de esta página se encuentra bajo la licencia [Creative Commons Attribution 4.0 International](https://creativecommons.org/licenses/by/4.0/) (CC BY 4.0 Elena Arce Fariña), y las muestras de código se encuentran bajo la licencia [MIT](https://opensource.org/licenses/MIT) (Copyright 2020 Andrés Suárez García)."
   ]
  },
  {
   "cell_type": "markdown",
   "metadata": {},
   "source": [
    "## ÍNDICE\n",
    "- [ENUNCIADO](#ENUNCIADO)\n",
    "- [PREGUNTAS](#PREGUNTAS)\n",
    "  - [1. Tamaño del Lote Óptimo](#1.-Tamaño-del-Lote-Óptimo)\n",
    "  - [2. Stock de Seguridad](#2.-Stock-de-Seguridad)\n",
    "  - [3. Inventario Medio](#3.-Inventario-Medio)\n",
    "  - [4. Punto de Pedido según Stock](#4.-Punto-de-Pedido-según-Stock)\n",
    "  - [5. Número Pedidos por Año](#5.-Número-Pedidos-por-Año)\n",
    "  - [6. Tiempo entre Pedidos](#6.-Tiempo-entre-Pedidos)\n",
    "  - [7. Coste Total](#7.-Coste-Total)"
   ]
  },
  {
   "cell_type": "markdown",
   "metadata": {},
   "source": [
    "## ENUNCIADO\n",
    "\n",
    "Un importador de recambios marinos vende entré otros productos ánodos para embarcaciones. El consumo medio es de 10 ánodos al día. Este consumo se lleva a cabo durante 300 días al año.\n",
    "\n",
    "La empresa maneja los siguientes costes:\n",
    "- Coste unitario de adquisición medio: 450€\n",
    "- Coste unitario de almacenamiento anual: 5% del coste de adquisición\n",
    "- Coste de emisión de un pedido: 60 €\n",
    "\n",
    "Además, se cumple que:\n",
    "- El tiempo de entrega del proveedor es: 5 días\n",
    "- El Stock de Seguridad es: 6 días de consumo"
   ]
  },
  {
   "cell_type": "code",
   "execution_count": 3,
   "metadata": {},
   "outputs": [],
   "source": [
    "import math"
   ]
  },
  {
   "cell_type": "code",
   "execution_count": 31,
   "metadata": {},
   "outputs": [],
   "source": [
    "demanda_diaria = 10     \n",
    "tiempo_consumo = 300 \n",
    "coste_unitario = 450\n",
    "coste_almacenamiento_unidad = 0.05*coste_unitario\n",
    "coste_emision = 60\n",
    "tiempo_entrega = 5\n",
    "stock_seguridad = 6"
   ]
  },
  {
   "cell_type": "markdown",
   "metadata": {},
   "source": [
    "## PREGUNTAS"
   ]
  },
  {
   "cell_type": "markdown",
   "metadata": {},
   "source": [
    "### 1. Tamaño del Lote Óptimo\n",
    "\n",
    "El tamaño de lote óptimo (EOQ o Q*) se obtiene del punto de corte de la recta de coste de almacenamiento con la curva de coste de pedido (o curva de coste de emisión). En ese punto se alcanza el mínimo en la curva de coste total.\n",
    "\n",
    "<img src='./img/tamanho_lote_optimo.png' width='600'>"
   ]
  },
  {
   "cell_type": "code",
   "execution_count": 58,
   "metadata": {},
   "outputs": [
    {
     "name": "stdout",
     "output_type": "stream",
     "text": [
      "tamaño lote óptimo 126.49 €\n"
     ]
    }
   ],
   "source": [
    "demanda_anual = demanda_diaria*tiempo_consumo\n",
    "eoq = math.sqrt(2*demanda_anual*coste_emision/coste_almacenamiento_unidad)\n",
    "print(f'tamaño lote óptimo {eoq:.2f} €')"
   ]
  },
  {
   "cell_type": "markdown",
   "metadata": {},
   "source": [
    "### 2. Stock de Seguridad\n",
    "\n",
    "El Stock de Seguridad es una cantidad que se desea tener siempre en almacén para contingencias (evitar posibles roturas de Stock o lo que es lo mismo, no tener Stock en caso de que el proveedor o proveedores no suministren en fecha). El Stock de Seguridad, aunque es una cantidad, nos la pueden indicar en días de consumo, que pasaremos a unidades sabiendo el consumo diario.\n",
    "\n",
    "<img src='./img/stock_seguridad.png' width='600'>"
   ]
  },
  {
   "cell_type": "code",
   "execution_count": 57,
   "metadata": {},
   "outputs": [
    {
     "name": "stdout",
     "output_type": "stream",
     "text": [
      "stock seguridad 600.0 ud\n"
     ]
    }
   ],
   "source": [
    "stock_seguridad = demanda_diaria*stock_seguridad\n",
    "print(f'stock seguridad {stock_seguridad:.1f} ud')"
   ]
  },
  {
   "cell_type": "markdown",
   "metadata": {},
   "source": [
    "### 3. Inventario Medio\n",
    "\n",
    "Es la cantidad media de productos que tenemos en almacén. O lo que es lo mismo el valor medio de EOQ.\n",
    "\n",
    "<img src='./img/inventario_medio.png' width='600'>"
   ]
  },
  {
   "cell_type": "code",
   "execution_count": 56,
   "metadata": {},
   "outputs": [
    {
     "name": "stdout",
     "output_type": "stream",
     "text": [
      "inventario medio 123.2 ud\n"
     ]
    }
   ],
   "source": [
    "inventario_medio = eoq/2 + stock_seguridad\n",
    "print(f'inventario medio {inventario_medio:.1f} ud')"
   ]
  },
  {
   "cell_type": "markdown",
   "metadata": {},
   "source": [
    "### 4. Punto de Pedido según Stock\n",
    "\n",
    "El punto de pedido es el momento en el que realizo el pedido. Es decir, el nivel de inventario en el que emito la orden de pedido. En caso de tener Stock de Seguridad, deberá ser tenido en cuenta. El Punto de Pedido (Pp) será la cantidad que resulte de sumar las unidades que consumo durante el tiempo en el que el proveedor tarda en entregarme el pedido (m) y el Stock de Seguridad (en el caso de que existe Stock de Seguridad). Ejemplo: si el proveedor tarda 5 días en suministrarme un pedido y consumo 10 unidades al día, la cantidad m será 50 (que resulta de multiplicar 5x10). El punto de pedido será 50 más el Stock de Seguridad.\n",
    "\n",
    "\n",
    "<img src='./img/punto_pedido_01.png' width='600'>\n",
    "\n",
    "<img src='./img/punto_pedido_02.png' width='600'>"
   ]
  },
  {
   "cell_type": "code",
   "execution_count": 55,
   "metadata": {},
   "outputs": [
    {
     "name": "stdout",
     "output_type": "stream",
     "text": [
      "punto pedido 110.0 ud\n"
     ]
    }
   ],
   "source": [
    "demanda_tiempo_suministro = demanda_diaria*tiempo_entrega\n",
    "punto_pedido = stock_seguridad + demanda_tiempo_suministro\n",
    "print(f'punto pedido {punto_pedido:.1f} ud')"
   ]
  },
  {
   "cell_type": "markdown",
   "metadata": {},
   "source": [
    "### 5. Número Pedidos por Año"
   ]
  },
  {
   "cell_type": "code",
   "execution_count": 54,
   "metadata": {},
   "outputs": [
    {
     "name": "stdout",
     "output_type": "stream",
     "text": [
      "número pedidos 23.7 ud\n"
     ]
    }
   ],
   "source": [
    "numero_pedidos = demanda_anual/eoq\n",
    "print(f'número pedidos {numero_pedidos:.1f} ud')"
   ]
  },
  {
   "cell_type": "markdown",
   "metadata": {},
   "source": [
    "### 6. Tiempo entre Pedidos\n",
    "\n",
    "El tiempo entre pedidos es el tiempo que tardo en consumir el EOQ o Q*. \n",
    "\n",
    "<img src='./img/tiempo_pedidos.png' width='600'>"
   ]
  },
  {
   "cell_type": "code",
   "execution_count": 53,
   "metadata": {},
   "outputs": [
    {
     "name": "stdout",
     "output_type": "stream",
     "text": [
      "tiempo entre pedidos 12.6 días\n"
     ]
    }
   ],
   "source": [
    "tiempo_pedidos = eoq/demanda_diaria\n",
    "print(f'tiempo entre pedidos {tiempo_pedidos:.1f} días')"
   ]
  },
  {
   "cell_type": "markdown",
   "metadata": {},
   "source": [
    "### 7. Coste Total\n",
    "\n",
    "El coste total es la suma del coste de compra de productos (o lo que es lo mismo, lo que me gasto en comprar toda la demanda anual) más el coste de almacenaje y el coste de emisión de pedidos.\n",
    "\n",
    "<img src='./img/coste_total.png' width='600'>"
   ]
  },
  {
   "cell_type": "code",
   "execution_count": 49,
   "metadata": {},
   "outputs": [
    {
     "name": "stdout",
     "output_type": "stream",
     "text": [
      "coste almacenamiento 4123.02 €\n"
     ]
    }
   ],
   "source": [
    "coste_almacenamiento = (inventario_medio+stock_seguridad)*coste_almacenamiento_unidad\n",
    "print(f'coste almacenamiento {coste_almacenamiento:.2f} €')"
   ]
  },
  {
   "cell_type": "code",
   "execution_count": 50,
   "metadata": {},
   "outputs": [
    {
     "name": "stdout",
     "output_type": "stream",
     "text": [
      "coste emision 1423.02 €\n"
     ]
    }
   ],
   "source": [
    "coste_emision_anual = numero_pedidos*coste_emision\n",
    "print(f'coste emision {coste_emision_anual:.2f} €')"
   ]
  },
  {
   "cell_type": "code",
   "execution_count": 51,
   "metadata": {},
   "outputs": [
    {
     "name": "stdout",
     "output_type": "stream",
     "text": [
      "coste demanda 1350000.00 €\n"
     ]
    }
   ],
   "source": [
    "coste_demanda = demanda_anual*coste_unitario\n",
    "print(f'coste demanda {coste_demanda:.2f} €')"
   ]
  },
  {
   "cell_type": "code",
   "execution_count": 52,
   "metadata": {},
   "outputs": [
    {
     "name": "stdout",
     "output_type": "stream",
     "text": [
      "coste total 1355546.05 €\n"
     ]
    }
   ],
   "source": [
    "coste_total = coste_almacenamiento + coste_emision_anual + coste_demanda\n",
    "print(f'coste total {coste_total:.2f} €')"
   ]
  },
  {
   "cell_type": "code",
   "execution_count": 14,
   "metadata": {},
   "outputs": [
    {
     "name": "stdout",
     "output_type": "stream",
     "text": [
      "2020-03-26T19:08:24+01:00\n",
      "\n",
      "CPython 3.7.5\n",
      "IPython 7.12.0\n",
      "\n",
      "compiler   : Clang 11.0.0 (clang-1100.0.33.8)\n",
      "system     : Darwin\n",
      "release    : 19.3.0\n",
      "machine    : x86_64\n",
      "processor  : i386\n",
      "CPU cores  : 4\n",
      "interpreter: 64bit\n"
     ]
    }
   ],
   "source": [
    "%watermark"
   ]
  }
 ],
 "metadata": {
  "kernelspec": {
   "display_name": "Python 3",
   "language": "python",
   "name": "python3"
  },
  "language_info": {
   "codemirror_mode": {
    "name": "ipython",
    "version": 3
   },
   "file_extension": ".py",
   "mimetype": "text/x-python",
   "name": "python",
   "nbconvert_exporter": "python",
   "pygments_lexer": "ipython3",
   "version": "3.7.5"
  }
 },
 "nbformat": 4,
 "nbformat_minor": 4
}
